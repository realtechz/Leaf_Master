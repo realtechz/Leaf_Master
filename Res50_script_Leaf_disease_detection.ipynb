{
  "cells": [
    {
      "cell_type": "markdown",
      "source": [
        "### Imports\n"
      ],
      "metadata": {
        "id": "NtIW5y8dosyo"
      }
    },
    {
      "cell_type": "code",
      "execution_count": null,
      "metadata": {
        "id": "IS2ZdO25n-K7",
        "outputId": "a00bb97f-2330-4baf-c68b-54f3513dd9c4",
        "colab": {
          "base_uri": "https://localhost:8080/"
        }
      },
      "outputs": [
        {
          "output_type": "stream",
          "name": "stdout",
          "text": [
            "C:\\Users\\ultim\\Documents\\Leaf-Disease-Classifier-master\n"
          ]
        }
      ],
      "source": [
        "import tensorflow as tf\n",
        "tf.__version__\n",
        "from tensorflow.keras.applications import ResNet50\n",
        "from tensorflow.keras.models import Sequential\n",
        "from tensorflow.keras.layers import Dense\n",
        "import tensorflow.keras\n",
        "from matplotlib import pyplot as plt\n",
        "from IPython.display import clear_output\n",
        "import numpy as np\n",
        "import pandas as pd\n",
        "from PIL import Image\n",
        "%matplotlib inline \n",
        "import datetime\n",
        "from livelossplot import PlotLossesKeras\n",
        "import cv2\n",
        "import os\n",
        "import numpy as np\n",
        "from tensorflow.keras.preprocessing import image\n",
        "from tensorflow.keras.preprocessing.image import ImageDataGenerator\n",
        "%cd C:\\Users\\ultim\\Documents\\Leaf-Disease-Classifier-master"
      ]
    },
    {
      "cell_type": "code",
      "execution_count": null,
      "metadata": {
        "id": "9ughmTLsn-K-"
      },
      "outputs": [],
      "source": [
        "# %load_ext tensorboard\n",
        "# %tensorboard --logdir logs"
      ]
    },
    {
      "cell_type": "code",
      "source": [
        "train_datagen = ImageDataGenerator(\n",
        "      rotation_range = 270,\n",
        "      brightness_range = (-2,2),\n",
        "          shear_range=0.2,\n",
        "          zoom_range=0.3,\n",
        "      vertical_flip=True,\n",
        "      validation_split=0.3,\n",
        "          horizontal_flip=True)\n",
        "test_datagen = ImageDataGenerator(vertical_flip=True,\n",
        "                                  horizontal_flip=True,\n",
        "                                  rotation_range=180,\n",
        "                                  zoom_range=0.2)\n",
        "val_datagen = ImageDataGenerator(vertical_flip=True,\n",
        "                                  horizontal_flip=True,\n",
        "                                  rotation_range=180,\n",
        "                                  zoom_range=0.2)"
      ],
      "metadata": {
        "id": "ECEhBoZ0yeHJ"
      },
      "execution_count": null,
      "outputs": []
    },
    {
      "cell_type": "markdown",
      "source": [
        "## 8 Models trained Seperately"
      ],
      "metadata": {
        "id": "ZiueMg3_dXY2"
      }
    },
    {
      "cell_type": "markdown",
      "source": [
        "### Peach model"
      ],
      "metadata": {
        "id": "4vGctgQeo5yq"
      }
    },
    {
      "cell_type": "markdown",
      "source": [
        "#### Model"
      ],
      "metadata": {
        "id": "12TU00Spc4WN"
      }
    },
    {
      "cell_type": "code",
      "execution_count": null,
      "metadata": {
        "colab": {
          "base_uri": "https://localhost:8080/"
        },
        "id": "IRXn2dxJTmFM",
        "outputId": "51ac05ad-e83e-40c7-e328-1d6e2d992394"
      },
      "outputs": [
        {
          "output_type": "stream",
          "name": "stdout",
          "text": [
            "Found 2126 images belonging to 2 classes.\n",
            "Found 531 images belonging to 2 classes.\n",
            "Model loaded\n"
          ]
        }
      ],
      "source": [
        "NUM_CLASSES = 2\n",
        "\n",
        "#DATA:\n",
        "train_set = train_datagen.flow_from_directory(\n",
        "          'yolo_dataset/Peach/train/',\n",
        "          target_size=(224,224),\n",
        "          batch_size=64,\n",
        "          seed=101, \n",
        "          shuffle=True,\n",
        "          class_mode='categorical')\n",
        "\n",
        "test_set = test_datagen.flow_from_directory(\n",
        "          'yolo_dataset/Peach/test/',\n",
        "          target_size=(224, 224),\n",
        "          batch_size=64,\n",
        "          shuffle=True,\n",
        "          seed=101,\n",
        "          class_mode='categorical')\n",
        "\n",
        "RESNET50_POOLING_AVERAGE = 'avg'\n",
        "DENSE_LAYER_ACTIVATION = 'softmax'\n",
        "OBJECTIVE_FUNCTION = 'categorical_crossentropy'\n",
        "\n",
        "# Common accuracy metric for all outputs, but can use different metrics for different output\n",
        "LOSS_METRICS = ['accuracy']\n",
        "model = Sequential()\n",
        "\n",
        "# 1st layer as the lumpsum weights from resnet50_weights_tf_dim_ordering_tf_kernels_notop.h5\n",
        "# NOTE that this layer will be set below as NOT TRAINABLE, i.e., use it as is\n",
        "\n",
        "model.add(ResNet50(include_top = False, pooling = RESNET50_POOLING_AVERAGE, weights = 'imagenet'))\n",
        "model.add(Dense(NUM_CLASSES, activation = DENSE_LAYER_ACTIVATION))\n",
        "\n",
        "# Say not to train first layer (ResNet) model as it is already trained\n",
        "model.layers[0].trainable = False\n",
        "# log_dir = \"logs/fit/\" + datetime.datetime.now().strftime(\"%Y%m%d-%H%M%S\")\n",
        "# tensorboard_callback = tf.keras.callbacks.TensorBoard(log_dir=log_dir, histogram_freq=1)\n",
        "#compiling\n",
        "model.compile(optimizer = 'adam', loss = OBJECTIVE_FUNCTION, metrics = LOSS_METRICS)\n",
        "\n",
        "if os.path.exists(\"Best_weights\\Peach.h5\"):\n",
        "  print(\"Model loaded\")\n",
        "  model.load_weights('Best_weights\\Peach.h5')\n",
        "\n",
        "else:\n",
        "  history = model.fit(\n",
        "          train_set,\n",
        "          epochs=16,\n",
        "          validation_data=test_set,\n",
        "          validation_steps=400,\n",
        "          verbose=1 )\n",
        "  plt.figure(1, figsize = (15,8)) \n",
        "  plt.subplot(221)  \n",
        "  plt.plot(history.history['accuracy'])  \n",
        "  plt.plot(history.history['val_accuracy'])  \n",
        "  plt.title('Peach model accuracy')  \n",
        "  plt.ylabel('accuracy')  \n",
        "  plt.xlabel('epoch')  \n",
        "  plt.legend(['train', 'valid']) \n",
        "      \n",
        "  plt.subplot(222)  \n",
        "  plt.plot(history.history['loss'])  \n",
        "  plt.plot(history.history['val_loss'])  \n",
        "  plt.title('Peach model loss')  \n",
        "  plt.ylabel('loss')  \n",
        "  plt.xlabel('epoch')  \n",
        "  plt.legend(['train', 'valid']) \n",
        "\n",
        "  plt.show()\n",
        "  model.save(\"Best_model\\Peach.h5\")\n",
        "  model.save_weights(\"Best_weights\\Peach.h5\")"
      ]
    },
    {
      "cell_type": "code",
      "source": [
        "# model.save(\"Best_model\\Peach.h5\")"
      ],
      "metadata": {
        "id": "RGKqKCCmsJyM"
      },
      "execution_count": null,
      "outputs": []
    },
    {
      "cell_type": "markdown",
      "source": [
        "#### Prediction of peach"
      ],
      "metadata": {
        "id": "2HnPsjbF07pj"
      }
    },
    {
      "cell_type": "code",
      "source": [
        "scores = model.evaluate(test_set)\n",
        "print(\"%s: %.2f%%\" % (model.metrics_names[1], scores[1]*100))\n",
        "\n",
        "thresh = 0.60\n",
        "test_image = image.load_img(r\"C:\\Users\\ultim\\Documents\\Leaf-Disease-Classifier-master\\yolo_dataset\\Peach\\test\\peach_bacterial_spot\\peach_BS13.jpg\",target_size=(224,224))  \n",
        "test_image = image.img_to_array(test_image)\n",
        "test_image = np.expand_dims(test_image,axis=0)\n",
        "result = model.predict(test_image)\n",
        "class_peach = [\"Peach with bacterial\", \"Healthy Peach\"]\n",
        "\n",
        "for x,y in enumerate(result[0]):\n",
        "  if y > thresh:\n",
        "    print(class_peach[x])\n",
        "    print(\"probability : \" + str(y))\n"
      ],
      "metadata": {
        "colab": {
          "base_uri": "https://localhost:8080/"
        },
        "id": "E5Dj6XPd06vZ",
        "outputId": "7990aaaf-bba7-4a48-a1ac-414789d08a91"
      },
      "execution_count": null,
      "outputs": [
        {
          "output_type": "stream",
          "name": "stdout",
          "text": [
            "9/9 [==============================] - 9s 767ms/step - loss: 0.0154 - accuracy: 0.9981\n",
            "accuracy: 99.81%\n",
            "Peach with bacterial\n",
            "probability : 0.9999989\n"
          ]
        }
      ]
    },
    {
      "cell_type": "markdown",
      "source": [
        "### Apple Model\n"
      ],
      "metadata": {
        "id": "Y46oqYRxqH83"
      }
    },
    {
      "cell_type": "markdown",
      "source": [
        "#### Model"
      ],
      "metadata": {
        "id": "t_MOFH8NdF78"
      }
    },
    {
      "cell_type": "code",
      "execution_count": null,
      "metadata": {
        "id": "M-08chdOn-LA",
        "colab": {
          "base_uri": "https://localhost:8080/",
          "height": 1000
        },
        "outputId": "5841fcc8-bab6-4f47-ce76-a478ad4b8fc6"
      },
      "outputs": [
        {
          "output_type": "stream",
          "name": "stdout",
          "text": [
            "Found 2537 images belonging to 4 classes.\n",
            "Found 634 images belonging to 4 classes.\n",
            "Epoch 1/24\n",
            "40/40 [==============================] - ETA: 0s - loss: 0.9992 - accuracy: 0.6145WARNING:tensorflow:Your input ran out of data; interrupting training. Make sure that your dataset or generator can generate at least `steps_per_epoch * epochs` batches (in this case, 400 batches). You may need to use the repeat() function when building your dataset.\n",
            "40/40 [==============================] - 49s 1s/step - loss: 0.9992 - accuracy: 0.6145 - val_loss: 1.1571 - val_accuracy: 0.5189\n",
            "Epoch 2/24\n",
            "40/40 [==============================] - 27s 664ms/step - loss: 0.8186 - accuracy: 0.6957\n",
            "Epoch 3/24\n",
            "40/40 [==============================] - 28s 705ms/step - loss: 0.7975 - accuracy: 0.7020\n",
            "Epoch 4/24\n",
            "40/40 [==============================] - 27s 677ms/step - loss: 0.7965 - accuracy: 0.6981\n",
            "Epoch 5/24\n",
            "40/40 [==============================] - 27s 663ms/step - loss: 0.7920 - accuracy: 0.7044\n",
            "Epoch 6/24\n",
            "40/40 [==============================] - 27s 666ms/step - loss: 0.7697 - accuracy: 0.7107\n",
            "Epoch 7/24\n",
            "40/40 [==============================] - 27s 665ms/step - loss: 0.7827 - accuracy: 0.6949\n",
            "Epoch 8/24\n",
            "40/40 [==============================] - 28s 697ms/step - loss: 0.7568 - accuracy: 0.7150\n",
            "Epoch 9/24\n",
            "40/40 [==============================] - 28s 694ms/step - loss: 0.7608 - accuracy: 0.7044\n",
            "Epoch 10/24\n",
            "40/40 [==============================] - 27s 674ms/step - loss: 0.7516 - accuracy: 0.7158\n",
            "Epoch 11/24\n",
            "40/40 [==============================] - 27s 665ms/step - loss: 0.7560 - accuracy: 0.7087\n",
            "Epoch 12/24\n",
            "40/40 [==============================] - 27s 681ms/step - loss: 0.7342 - accuracy: 0.7186\n",
            "Epoch 13/24\n",
            "40/40 [==============================] - 27s 666ms/step - loss: 0.7492 - accuracy: 0.7209\n",
            "Epoch 14/24\n",
            "40/40 [==============================] - 27s 667ms/step - loss: 0.7601 - accuracy: 0.7146\n",
            "Epoch 15/24\n",
            "40/40 [==============================] - 27s 681ms/step - loss: 0.7378 - accuracy: 0.7253\n",
            "Epoch 16/24\n",
            "40/40 [==============================] - 27s 665ms/step - loss: 0.7292 - accuracy: 0.7272\n",
            "Epoch 17/24\n",
            "40/40 [==============================] - 27s 663ms/step - loss: 0.7160 - accuracy: 0.7308\n",
            "Epoch 18/24\n",
            "40/40 [==============================] - 28s 692ms/step - loss: 0.7373 - accuracy: 0.7158\n",
            "Epoch 19/24\n",
            "40/40 [==============================] - 27s 673ms/step - loss: 0.7940 - accuracy: 0.6898\n",
            "Epoch 20/24\n",
            "40/40 [==============================] - 27s 678ms/step - loss: 0.7058 - accuracy: 0.7292\n",
            "Epoch 21/24\n",
            "40/40 [==============================] - 27s 663ms/step - loss: 0.7423 - accuracy: 0.7217\n",
            "Epoch 22/24\n",
            "40/40 [==============================] - 27s 661ms/step - loss: 0.7347 - accuracy: 0.7253\n",
            "Epoch 23/24\n",
            "40/40 [==============================] - 27s 661ms/step - loss: 0.7347 - accuracy: 0.7213\n",
            "Epoch 24/24\n",
            "40/40 [==============================] - 27s 662ms/step - loss: 0.7566 - accuracy: 0.7063\n"
          ]
        },
        {
          "output_type": "display_data",
          "data": {
            "text/plain": [
              "<Figure size 1080x576 with 2 Axes>"
            ],
            "image/png": "[encoded data removed]"
          },
          "metadata": {
            "needs_background": "light"
          }
        }
      ],
      "source": [
        "NUM_CLASSES = 4\n",
        "\n",
        "#DATA :\n",
        "train_set = train_datagen.flow_from_directory(\n",
        "          'yolo_dataset/Apple/train/',\n",
        "          target_size=(224,224),\n",
        "          batch_size=64,\n",
        "          seed=101, \n",
        "          shuffle=True,\n",
        "          class_mode='categorical')\n",
        "\n",
        "test_set = test_datagen.flow_from_directory(\n",
        "          'yolo_dataset/Apple/test/',\n",
        "          target_size=(224, 224),\n",
        "          batch_size=64,\n",
        "          shuffle=True,\n",
        "          seed=101,\n",
        "          class_mode='categorical')\n",
        "\n",
        "\n",
        "RESNET50_POOLING_AVERAGE = 'avg'\n",
        "DENSE_LAYER_ACTIVATION = 'softmax'\n",
        "OBJECTIVE_FUNCTION = 'categorical_crossentropy'\n",
        "\n",
        "# Common accuracy metric for all outputs, but can use different metrics for different output\n",
        "LOSS_METRICS = ['accuracy']\n",
        "\n",
        "\n",
        "model = Sequential()\n",
        "\n",
        "# 1st layer as the lumpsum weights from resnet50_weights_tf_dim_ordering_tf_kernels_notop.h5\n",
        "# NOTE that this layer will be set below as NOT TRAINABLE, i.e., use it as is\n",
        "model.add(ResNet50(include_top = False, pooling = RESNET50_POOLING_AVERAGE, weights = 'imagenet'))\n",
        "\n",
        "\n",
        "# 2nd layer as Dense for 8-class classification\n",
        "model.add(tf.keras.layers.BatchNormalization())\n",
        "model.add(Dense(1024, activation = DENSE_LAYER_ACTIVATION))\n",
        "model.add(tf.keras.layers.BatchNormalization())\n",
        "model.add(Dense(NUM_CLASSES, activation = DENSE_LAYER_ACTIVATION))\n",
        "\n",
        "# Say not to train first layer (ResNet) model as it is already trained\n",
        "model.layers[0].trainable = False\n",
        "\n",
        "#compiling\n",
        "model.compile(optimizer = 'adam', loss = OBJECTIVE_FUNCTION, metrics = LOSS_METRICS)\n",
        "\n",
        "\n",
        "if os.path.exists(\"Best_weights\\Apple.h5\"):\n",
        "  print(\"Model loaded\")\n",
        "  model.load_weights('Best_weights\\Apple.h5')\n",
        "\n",
        "else:\n",
        "  history = model.fit(\n",
        "          train_set,\n",
        "          epochs=24,\n",
        "          validation_data=test_set,\n",
        "          validation_steps=400)\n",
        "  plt.figure(1, figsize = (15,8)) \n",
        "  plt.subplot(221)  \n",
        "  plt.plot(history.history['accuracy'])  \n",
        "  plt.plot(history.history['val_accuracy'])  \n",
        "  plt.title('model accuracy')  \n",
        "  plt.ylabel('accuracy')  \n",
        "  plt.xlabel('epoch')  \n",
        "  plt.legend(['train', 'valid']) \n",
        "      \n",
        "  plt.subplot(222)  \n",
        "  plt.plot(history.history['loss'])  \n",
        "  plt.plot(history.history['val_loss'])  \n",
        "  plt.title('model loss')  \n",
        "  plt.ylabel('loss')  \n",
        "  plt.xlabel('epoch')  \n",
        "  plt.legend(['train', 'valid']) \n",
        "\n",
        "  plt.show()\n",
        "  \n",
        "  model.save(\"Best_model\\Apple.h5\")\n",
        "  model.save_weights(\"Best_weights\\Apple.h5\")"
      ]
    },
    {
      "cell_type": "code",
      "source": [
        "# model.save(\"Best_model\\Apple.h5\")\n"
      ],
      "metadata": {
        "id": "mygj6cdgsMeR"
      },
      "execution_count": null,
      "outputs": []
    },
    {
      "cell_type": "markdown",
      "source": [
        "#### Prediction of apple"
      ],
      "metadata": {
        "id": "35_UBsh71kDV"
      }
    },
    {
      "cell_type": "code",
      "source": [
        "scores = model.evaluate(test_set)\n",
        "print(\"%s: %.2f%%\" % (model.metrics_names[1], scores[1]*100))"
      ],
      "metadata": {
        "colab": {
          "base_uri": "https://localhost:8080/"
        },
        "id": "3K0ULFsM1iu2",
        "outputId": "599bfc01-52ca-49ce-9e58-cf2e5ea2f8a3"
      },
      "execution_count": null,
      "outputs": [
        {
          "output_type": "stream",
          "name": "stdout",
          "text": [
            "10/10 [==============================] - 6s 558ms/step - loss: 0.1363 - accuracy: 0.9653\n",
            "accuracy: 96.53%\n"
          ]
        }
      ]
    },
    {
      "cell_type": "code",
      "source": [
        "thresh = 0.50\n",
        "test_image = image.load_img(r\"C:\\Users\\ultim\\Documents\\Leaf-Disease-Classifier-master\\yolo_dataset\\Apple\\test\\apple_scab\\apple_scab124.jpg\",target_size=(224,224))  \n",
        "\n",
        "test_image = image.img_to_array(test_image)\n",
        "test_image = np.expand_dims(test_image,axis=0)\n",
        "result = model.predict(test_image)\n",
        "class_peach = [\"Apple Black Rot\", \"Apple Cedar Rust\", \"Healthy Apple\", \"Apple with scab\"]\n",
        "\n",
        "for x,y in enumerate(result[0]):\n",
        "  if y > thresh:\n",
        "    print(class_peach[x])\n",
        "    print(\"probability : \" + str(y))"
      ],
      "metadata": {
        "colab": {
          "base_uri": "https://localhost:8080/"
        },
        "id": "BYiBcz3n2-uH",
        "outputId": "83cd2218-533d-4ca2-ac1e-a472cc48c771"
      },
      "execution_count": null,
      "outputs": [
        {
          "output_type": "stream",
          "name": "stdout",
          "text": [
            "Apple with scab\n",
            "probability : 0.83212316\n"
          ]
        }
      ]
    },
    {
      "cell_type": "markdown",
      "source": [
        "### Potato Model"
      ],
      "metadata": {
        "id": "8pF2IQTgqOOW"
      }
    },
    {
      "cell_type": "markdown",
      "source": [
        "#### Model"
      ],
      "metadata": {
        "id": "BeTkQSQUdKA9"
      }
    },
    {
      "cell_type": "code",
      "execution_count": null,
      "metadata": {
        "id": "cYnvFCFUa8b2",
        "colab": {
          "base_uri": "https://localhost:8080/",
          "height": 1000
        },
        "outputId": "ed689dfc-3a9f-4af4-8ce6-75ea1248d181"
      },
      "outputs": [
        {
          "output_type": "stream",
          "name": "stdout",
          "text": [
            "Found 1722 images belonging to 3 classes.\n",
            "Found 430 images belonging to 3 classes.\n",
            "Epoch 1/24\n",
            "27/27 [==============================] - ETA: 0s - loss: 0.8180 - accuracy: 0.6051WARNING:tensorflow:Your input ran out of data; interrupting training. Make sure that your dataset or generator can generate at least `steps_per_epoch * epochs` batches (in this case, 400 batches). You may need to use the repeat() function when building your dataset.\n",
            "27/27 [==============================] - 27s 879ms/step - loss: 0.8180 - accuracy: 0.6051 - val_loss: 0.8706 - val_accuracy: 0.8140\n",
            "Epoch 2/24\n",
            "27/27 [==============================] - 20s 704ms/step - loss: 0.6367 - accuracy: 0.6719\n",
            "Epoch 3/24\n",
            "27/27 [==============================] - 18s 669ms/step - loss: 0.6276 - accuracy: 0.6556\n",
            "Epoch 4/24\n",
            "27/27 [==============================] - 18s 668ms/step - loss: 0.6393 - accuracy: 0.6736\n",
            "Epoch 5/24\n",
            "27/27 [==============================] - 18s 674ms/step - loss: 0.6179 - accuracy: 0.6742\n",
            "Epoch 6/24\n",
            "27/27 [==============================] - 18s 672ms/step - loss: 0.6289 - accuracy: 0.6643\n",
            "Epoch 7/24\n",
            "27/27 [==============================] - 18s 670ms/step - loss: 0.6109 - accuracy: 0.6823\n",
            "Epoch 8/24\n",
            "27/27 [==============================] - 18s 671ms/step - loss: 0.6060 - accuracy: 0.6713\n",
            "Epoch 9/24\n",
            "27/27 [==============================] - 18s 668ms/step - loss: 0.6285 - accuracy: 0.6841\n",
            "Epoch 10/24\n",
            "27/27 [==============================] - 20s 725ms/step - loss: 0.6245 - accuracy: 0.6725\n",
            "Epoch 11/24\n",
            "27/27 [==============================] - 17s 641ms/step - loss: 0.6192 - accuracy: 0.6655\n",
            "Epoch 12/24\n",
            "27/27 [==============================] - 19s 707ms/step - loss: 0.6169 - accuracy: 0.6876\n",
            "Epoch 13/24\n",
            "27/27 [==============================] - 19s 681ms/step - loss: 0.5896 - accuracy: 0.6934\n",
            "Epoch 14/24\n",
            "27/27 [==============================] - 19s 708ms/step - loss: 0.6181 - accuracy: 0.6771\n",
            "Epoch 15/24\n",
            "27/27 [==============================] - 18s 679ms/step - loss: 0.5975 - accuracy: 0.6905\n",
            "Epoch 16/24\n",
            "27/27 [==============================] - 18s 677ms/step - loss: 0.6160 - accuracy: 0.6545\n",
            "Epoch 17/24\n",
            "27/27 [==============================] - 18s 673ms/step - loss: 0.5891 - accuracy: 0.6922\n",
            "Epoch 18/24\n",
            "27/27 [==============================] - 18s 680ms/step - loss: 0.5966 - accuracy: 0.6806\n",
            "Epoch 19/24\n",
            "27/27 [==============================] - 18s 676ms/step - loss: 0.5819 - accuracy: 0.6812\n",
            "Epoch 20/24\n",
            "27/27 [==============================] - 19s 705ms/step - loss: 0.5977 - accuracy: 0.6847\n",
            "Epoch 21/24\n",
            "27/27 [==============================] - 19s 718ms/step - loss: 0.5836 - accuracy: 0.6823\n",
            "Epoch 22/24\n",
            "27/27 [==============================] - 20s 718ms/step - loss: 0.5882 - accuracy: 0.6887\n",
            "Epoch 23/24\n",
            "27/27 [==============================] - 20s 749ms/step - loss: 0.5829 - accuracy: 0.6655\n",
            "Epoch 24/24\n",
            "27/27 [==============================] - 20s 720ms/step - loss: 0.5965 - accuracy: 0.7003\n"
          ]
        },
        {
          "output_type": "display_data",
          "data": {
            "text/plain": [
              "<Figure size 1080x576 with 2 Axes>"
            ],
            "image/png": "[encoded data removed]"
          },
          "metadata": {
            "needs_background": "light"
          }
        },
        {
          "output_type": "stream",
          "name": "stderr",
          "text": [
            "C:\\Users\\ultim\\.conda\\envs\\tf\\lib\\site-packages\\tensorflow\\python\\keras\\utils\\generic_utils.py:494: CustomMaskWarning: Custom mask layers require a config and must override get_config. When loading, the custom mask layer must be passed to the custom_objects argument.\n",
            "  warnings.warn('Custom mask layers require a config and must override '\n"
          ]
        }
      ],
      "source": [
        "NUM_CLASSES = 3\n",
        "\n",
        "#DATA :\n",
        "train_set = train_datagen.flow_from_directory(\n",
        "          'yolo_dataset/potato/train/',\n",
        "          target_size=(224,224),\n",
        "          batch_size=64,\n",
        "          seed=101, \n",
        "          shuffle=True,\n",
        "          class_mode='categorical')\n",
        "\n",
        "test_set = test_datagen.flow_from_directory(\n",
        "          'yolo_dataset/potato/test/',\n",
        "          target_size=(224, 224),\n",
        "          batch_size=64,\n",
        "          shuffle=True,\n",
        "          seed=101,\n",
        "          class_mode='categorical')\n",
        "\n",
        "RESNET50_POOLING_AVERAGE = 'avg'\n",
        "DENSE_LAYER_ACTIVATION = 'softmax'\n",
        "OBJECTIVE_FUNCTION = 'categorical_crossentropy'\n",
        "\n",
        "# Common accuracy metric for all outputs, but can use different metrics for different output\n",
        "LOSS_METRICS = ['accuracy']\n",
        "\n",
        "model = Sequential()\n",
        "\n",
        "# 1st layer as the lumpsum weights from resnet50_weights_tf_dim_ordering_tf_kernels_notop.h5\n",
        "# NOTE that this layer will be set below as NOT TRAINABLE, i.e., use it as is\n",
        "model.add(ResNet50(include_top = False, pooling = RESNET50_POOLING_AVERAGE, weights = 'imagenet'))\n",
        "model.add(tf.keras.layers.BatchNormalization())\n",
        "model.add(Dense(1024, activation = DENSE_LAYER_ACTIVATION))\n",
        "model.add(tf.keras.layers.BatchNormalization())\n",
        "# model.add(tf.keras.layers.Dropout(rate=0.2))\n",
        "model.add(Dense(NUM_CLASSES, activation = DENSE_LAYER_ACTIVATION))\n",
        "\n",
        "# Say not to train first layer (ResNet) model as it is already trained\n",
        "model.layers[0].trainable = False\n",
        "\n",
        "#compiling\n",
        "model.compile(optimizer = 'adam', loss = OBJECTIVE_FUNCTION, metrics = LOSS_METRICS)\n",
        "\n",
        "if os.path.exists(\"Best_weights\\Potato.h5\"):\n",
        "  print(\"Model loaded\")\n",
        "  model.load_weights('Best_weights\\Potato.h5')\n",
        "\n",
        "else:\n",
        "  history = model.fit(\n",
        "          train_set,\n",
        "          epochs=24,\n",
        "          validation_data=test_set,\n",
        "          validation_steps=400)\n",
        "  plt.figure(1, figsize = (15,8)) \n",
        "  plt.subplot(221)  \n",
        "  plt.plot(history.history['accuracy'])  \n",
        "  plt.plot(history.history['val_accuracy'])  \n",
        "  plt.title('model accuracy')  \n",
        "  plt.ylabel('accuracy')  \n",
        "  plt.xlabel('epoch')  \n",
        "  plt.legend(['train', 'valid']) \n",
        "      \n",
        "  plt.subplot(222)  \n",
        "  plt.plot(history.history['loss'])  \n",
        "  plt.plot(history.history['val_loss'])  \n",
        "  plt.title('model loss')  \n",
        "  plt.ylabel('loss')  \n",
        "  plt.xlabel('epoch')  \n",
        "  plt.legend(['train', 'valid']) \n",
        "\n",
        "  plt.show()\n",
        "\n",
        "  model.save(\"Best_model\\Potato.h5\")\n",
        "  model.save_weights(\"Best_weights\\Potato.h5\")"
      ]
    },
    {
      "cell_type": "code",
      "source": [
        "# model.save(\"Best_model\\Potato.h5\")"
      ],
      "metadata": {
        "id": "13vZInf-sTgR"
      },
      "execution_count": null,
      "outputs": []
    },
    {
      "cell_type": "markdown",
      "source": [
        "#### Prediction for Potato"
      ],
      "metadata": {
        "id": "HZ3pvODl4hwP"
      }
    },
    {
      "cell_type": "code",
      "source": [
        "scores = model.evaluate(test_set)\n",
        "print(\"%s: %.2f%%\" % (model.metrics_names[1], scores[1]*100))\n",
        "\n"
      ],
      "metadata": {
        "colab": {
          "base_uri": "https://localhost:8080/"
        },
        "id": "tewSyQdU3rwi",
        "outputId": "594721a9-93da-45aa-874a-84260281cf3d"
      },
      "execution_count": null,
      "outputs": [
        {
          "output_type": "stream",
          "name": "stdout",
          "text": [
            "7/7 [==============================] - 4s 569ms/step - loss: 0.1634 - accuracy: 0.9558\n",
            "accuracy: 95.58%\n"
          ]
        }
      ]
    },
    {
      "cell_type": "code",
      "source": [
        "thresh = 0.60\n",
        "test_image = image.load_img(r\"C:\\Users\\ultim\\Documents\\Leaf-Disease-Classifier-master\\yolo_dataset\\potato\\train\\potato_healthy\\potato_healthy150.jpg\",target_size=(224,224))  \n",
        "test_image = image.img_to_array(test_image)\n",
        "test_image = np.expand_dims(test_image,axis=0)\n",
        "result = model.predict(test_image)\n",
        "class_peach = [\"Potato with eb\", \"healthy potato\", \"Potato with lb\"]\n",
        "\n",
        "for x,y in enumerate(result[0]):\n",
        "  if y > thresh:\n",
        "    print(class_peach[x])\n",
        "    print(\"probability : \" + str(y))"
      ],
      "metadata": {
        "colab": {
          "base_uri": "https://localhost:8080/"
        },
        "id": "vE_UxXRC9e3O",
        "outputId": "79b184ef-e125-4e1b-a390-e80ab74d8fba"
      },
      "execution_count": null,
      "outputs": [
        {
          "output_type": "stream",
          "name": "stdout",
          "text": [
            "healthy potato\n",
            "probability : 0.9350927\n"
          ]
        }
      ]
    },
    {
      "cell_type": "markdown",
      "source": [
        "### Grape model"
      ],
      "metadata": {
        "id": "1rq5Lbyl4mn3"
      }
    },
    {
      "cell_type": "markdown",
      "source": [
        "#### Model"
      ],
      "metadata": {
        "id": "AhkidfL7dLxq"
      }
    },
    {
      "cell_type": "code",
      "execution_count": null,
      "metadata": {
        "id": "L2silL9AgrIw",
        "colab": {
          "base_uri": "https://localhost:8080/",
          "height": 1000
        },
        "outputId": "cb88442e-56e0-40b5-d68f-c969fc797b8a"
      },
      "outputs": [
        {
          "output_type": "stream",
          "name": "stdout",
          "text": [
            "Found 3251 images belonging to 4 classes.\n",
            "Found 811 images belonging to 4 classes.\n",
            "Epoch 1/32\n",
            "51/51 [==============================] - ETA: 0s - loss: 1.3494 - accuracy: 0.4248WARNING:tensorflow:Your input ran out of data; interrupting training. Make sure that your dataset or generator can generate at least `steps_per_epoch * epochs` batches (in this case, 400 batches). You may need to use the repeat() function when building your dataset.\n",
            "51/51 [==============================] - 59s 1s/step - loss: 1.3494 - accuracy: 0.4248 - val_loss: 1.2750 - val_accuracy: 0.7891\n",
            "Epoch 2/32\n",
            "51/51 [==============================] - 33s 644ms/step - loss: 1.2908 - accuracy: 0.5042\n",
            "Epoch 3/32\n",
            "51/51 [==============================] - 33s 643ms/step - loss: 1.2440 - accuracy: 0.5152\n",
            "Epoch 4/32\n",
            "51/51 [==============================] - 33s 650ms/step - loss: 1.2052 - accuracy: 0.5537\n",
            "Epoch 5/32\n",
            "51/51 [==============================] - 35s 689ms/step - loss: 1.1757 - accuracy: 0.5583\n",
            "Epoch 6/32\n",
            "51/51 [==============================] - 34s 657ms/step - loss: 1.1453 - accuracy: 0.5595\n",
            "Epoch 7/32\n",
            "51/51 [==============================] - 35s 677ms/step - loss: 1.1146 - accuracy: 0.5786\n",
            "Epoch 8/32\n",
            "51/51 [==============================] - 34s 659ms/step - loss: 1.0996 - accuracy: 0.5647\n",
            "Epoch 9/32\n",
            "51/51 [==============================] - 34s 666ms/step - loss: 1.0801 - accuracy: 0.5706\n",
            "Epoch 10/32\n",
            "51/51 [==============================] - 33s 649ms/step - loss: 1.0596 - accuracy: 0.5672\n",
            "Epoch 11/32\n",
            "51/51 [==============================] - 34s 662ms/step - loss: 1.0389 - accuracy: 0.5814\n",
            "Epoch 12/32\n",
            "51/51 [==============================] - 35s 674ms/step - loss: 1.0341 - accuracy: 0.5724\n",
            "Epoch 13/32\n",
            "51/51 [==============================] - 35s 689ms/step - loss: 0.9992 - accuracy: 0.5915\n",
            "Epoch 14/32\n",
            "51/51 [==============================] - 34s 670ms/step - loss: 0.9919 - accuracy: 0.5857\n",
            "Epoch 15/32\n",
            "51/51 [==============================] - 34s 669ms/step - loss: 1.0005 - accuracy: 0.5666\n",
            "Epoch 16/32\n",
            "51/51 [==============================] - 33s 654ms/step - loss: 0.9664 - accuracy: 0.5829\n",
            "Epoch 17/32\n",
            "51/51 [==============================] - 34s 664ms/step - loss: 0.9696 - accuracy: 0.5774\n",
            "Epoch 18/32\n",
            "51/51 [==============================] - 36s 698ms/step - loss: 0.9836 - accuracy: 0.5657\n",
            "Epoch 19/32\n",
            "51/51 [==============================] - 34s 671ms/step - loss: 0.9608 - accuracy: 0.5718\n",
            "Epoch 20/32\n",
            "51/51 [==============================] - 33s 648ms/step - loss: 0.9624 - accuracy: 0.5691\n",
            "Epoch 21/32\n",
            "51/51 [==============================] - 34s 664ms/step - loss: 0.9575 - accuracy: 0.5755\n",
            "Epoch 22/32\n",
            "51/51 [==============================] - 34s 662ms/step - loss: 0.9468 - accuracy: 0.5724\n",
            "Epoch 23/32\n",
            "51/51 [==============================] - 34s 674ms/step - loss: 0.9344 - accuracy: 0.5743\n",
            "Epoch 24/32\n",
            "51/51 [==============================] - 33s 645ms/step - loss: 0.9213 - accuracy: 0.5786\n",
            "Epoch 25/32\n",
            "51/51 [==============================] - 33s 645ms/step - loss: 0.9256 - accuracy: 0.5795\n",
            "Epoch 26/32\n",
            "51/51 [==============================] - 33s 643ms/step - loss: 0.9198 - accuracy: 0.5731\n",
            "Epoch 27/32\n",
            "51/51 [==============================] - 34s 673ms/step - loss: 0.9071 - accuracy: 0.5881\n",
            "Epoch 28/32\n",
            "51/51 [==============================] - 33s 645ms/step - loss: 0.9103 - accuracy: 0.5774\n",
            "Epoch 29/32\n",
            "51/51 [==============================] - 34s 667ms/step - loss: 0.9133 - accuracy: 0.5684\n",
            "Epoch 30/32\n",
            "51/51 [==============================] - 33s 645ms/step - loss: 0.9144 - accuracy: 0.5684\n",
            "Epoch 31/32\n",
            "51/51 [==============================] - 33s 646ms/step - loss: 0.9057 - accuracy: 0.5709\n",
            "Epoch 32/32\n",
            "51/51 [==============================] - 33s 645ms/step - loss: 0.8851 - accuracy: 0.5844\n"
          ]
        },
        {
          "output_type": "display_data",
          "data": {
            "text/plain": [
              "<Figure size 1080x576 with 2 Axes>"
            ],
            "image/png": "[encoded data removed]"
          },
          "metadata": {
            "needs_background": "light"
          }
        },
        {
          "output_type": "stream",
          "name": "stderr",
          "text": [
            "C:\\Users\\ultim\\.conda\\envs\\tf\\lib\\site-packages\\tensorflow\\python\\keras\\utils\\generic_utils.py:494: CustomMaskWarning: Custom mask layers require a config and must override get_config. When loading, the custom mask layer must be passed to the custom_objects argument.\n",
            "  warnings.warn('Custom mask layers require a config and must override '\n"
          ]
        }
      ],
      "source": [
        "NUM_CLASSES = 4\n",
        "\n",
        "#DATA :\n",
        "train_set = train_datagen.flow_from_directory(\n",
        "          'yolo_dataset/Grape/train/',\n",
        "          target_size=(224,224),\n",
        "          batch_size=64,\n",
        "          seed=101, \n",
        "          shuffle=True,\n",
        "          class_mode='categorical')\n",
        "\n",
        "test_set = test_datagen.flow_from_directory(\n",
        "          'yolo_dataset/Grape/test/',\n",
        "          target_size=(224, 224),\n",
        "          batch_size=64,\n",
        "          shuffle=True,\n",
        "          seed=101,\n",
        "          class_mode='categorical')\n",
        "\n",
        "RESNET50_POOLING_AVERAGE = 'avg'\n",
        "DENSE_LAYER_ACTIVATION = 'softmax'\n",
        "OBJECTIVE_FUNCTION = 'categorical_crossentropy'\n",
        "\n",
        "# Common accuracy metric for all outputs, but can use different metrics for different output\n",
        "LOSS_METRICS = ['accuracy']\n",
        "\n",
        "model = Sequential()\n",
        "\n",
        "# 1st layer as the lumpsum weights from resnet50_weights_tf_dim_ordering_tf_kernels_notop.h5\n",
        "# NOTE that this layer will be set below as NOT TRAINABLE, i.e., use it as is\n",
        "model.add(ResNet50(include_top = False, pooling = RESNET50_POOLING_AVERAGE, weights = 'imagenet'))\n",
        "\n",
        "model.add(Dense(1024, activation = DENSE_LAYER_ACTIVATION))\n",
        "model.add(tf.keras.layers.Dropout(rate=0.2))\n",
        "model.add(Dense(NUM_CLASSES, activation = DENSE_LAYER_ACTIVATION))\n",
        "\n",
        "# Say not to train first layer (ResNet) model as it is already trained\n",
        "model.layers[0].trainable = False\n",
        "\n",
        "#compiling\n",
        "model.compile(optimizer = 'adam', loss = OBJECTIVE_FUNCTION, metrics = LOSS_METRICS)\n",
        "\n",
        "if os.path.exists(\"Best_weights\\Grape.h5\"):\n",
        "  print(\"Model loaded\")\n",
        "  model.load_weights('Best_weights\\Grape.h5')\n",
        "\n",
        "else:\n",
        "  history = model.fit(\n",
        "          train_set,\n",
        "          epochs=32,\n",
        "          validation_data=test_set,\n",
        "          validation_steps=400)\n",
        "  plt.figure(1, figsize = (15,8)) \n",
        "  plt.subplot(221)  \n",
        "  plt.plot(history.history['accuracy'])  \n",
        "  plt.plot(history.history['val_accuracy'])  \n",
        "  plt.title('model accuracy')  \n",
        "  plt.ylabel('accuracy')  \n",
        "  plt.xlabel('epoch')  \n",
        "  plt.legend(['train', 'valid']) \n",
        "      \n",
        "  plt.subplot(222)  \n",
        "  plt.plot(history.history['loss'])  \n",
        "  plt.plot(history.history['val_loss'])  \n",
        "  plt.title('model loss')  \n",
        "  plt.ylabel('loss')  \n",
        "  plt.xlabel('epoch')  \n",
        "  plt.legend(['train', 'valid']) \n",
        "\n",
        "  plt.show()\n",
        "\n",
        "  model.save(\"Best_model\\Grape.h5\")\n",
        "  model.save_weights(\"Best_weights\\Grape.h5\")"
      ]
    },
    {
      "cell_type": "code",
      "source": [
        "# model.save(\"Best_model\\Grape.h5\")"
      ],
      "metadata": {
        "id": "NdCjMHw3r51Z"
      },
      "execution_count": null,
      "outputs": []
    },
    {
      "cell_type": "markdown",
      "source": [
        "#### Pediction for grapes"
      ],
      "metadata": {
        "id": "8VcWn3Xv9FbO"
      }
    },
    {
      "cell_type": "code",
      "source": [
        "scores = model.evaluate(test_set)\n",
        "print(\"%s: %.2f%%\" % (model.metrics_names[1], scores[1]*100))\n",
        "\n",
        "thresh = 0.50\n",
        "test_image = image.load_img(r\"C:\\Users\\ultim\\Documents\\Leaf-Disease-Classifier-master\\yolo_dataset\\Grape\\test\\grape_esca\\grape_esca1000..jpg\",target_size=(224,224))  \n",
        "test_image = image.img_to_array(test_image)\n",
        "test_image = np.expand_dims(test_image,axis=0)\n",
        "result = model.predict(test_image)\n",
        "class_peach = [\"black rot\", \"Blight\", \"esca\", \"Healthy\"]\n",
        "\n",
        "for x,y in enumerate(result[0]):\n",
        "  if y > thresh:\n",
        "    print(class_peach[x])\n",
        "    print(\"probability : \" + str(y))\n"
      ],
      "metadata": {
        "colab": {
          "base_uri": "https://localhost:8080/"
        },
        "id": "P3JSdx-54gBi",
        "outputId": "fed7d3e5-e465-4fdf-d3c1-cfcf2e2a8813"
      },
      "execution_count": null,
      "outputs": [
        {
          "output_type": "stream",
          "name": "stdout",
          "text": [
            "13/13 [==============================] - 7s 530ms/step - loss: 0.3069 - accuracy: 0.9716\n",
            "accuracy: 97.16%\n",
            "Grape esca\n",
            "probability : 0.79780877\n"
          ]
        }
      ]
    },
    {
      "cell_type": "markdown",
      "source": [
        "### Pepper Model"
      ],
      "metadata": {
        "id": "w7gJH0a9cLi5"
      }
    },
    {
      "cell_type": "markdown",
      "source": [
        "#### Model"
      ],
      "metadata": {
        "id": "KQHs-PihdNb0"
      }
    },
    {
      "cell_type": "code",
      "source": [
        "NUM_CLASSES = 2\n",
        "\n",
        "#DATA :\n",
        "train_set = train_datagen.flow_from_directory(\n",
        "          'yolo_dataset/pepper/train/',\n",
        "          target_size=(224,224),\n",
        "          batch_size=64,\n",
        "          seed=101, \n",
        "          shuffle=True,\n",
        "          class_mode='categorical')\n",
        "\n",
        "test_set = test_datagen.flow_from_directory(\n",
        "          'yolo_dataset/pepper/test/',\n",
        "          target_size=(224, 224),\n",
        "          batch_size=64,\n",
        "          shuffle=True,\n",
        "          seed=101,\n",
        "          class_mode='categorical')\n",
        "\n",
        "RESNET50_POOLING_AVERAGE = 'avg'\n",
        "DENSE_LAYER_ACTIVATION = 'softmax'\n",
        "OBJECTIVE_FUNCTION = 'categorical_crossentropy'\n",
        "\n",
        "# Common accuracy metric for all outputs, but can use different metrics for different output\n",
        "LOSS_METRICS = ['accuracy']\n",
        "\n",
        "model = Sequential()\n",
        "\n",
        "# 1st layer as the lumpsum weights from resnet50_weights_tf_dim_ordering_tf_kernels_notop.h5\n",
        "# NOTE that this layer will be set below as NOT TRAINABLE, i.e., use it as is\n",
        "model.add(ResNet50(include_top = False, pooling = RESNET50_POOLING_AVERAGE, weights = 'imagenet'))\n",
        "model.add(tf.keras.layers.BatchNormalization())\n",
        "model.add(Dense(1024, activation = DENSE_LAYER_ACTIVATION))\n",
        "model.add(tf.keras.layers.BatchNormalization())\n",
        "model.add(Dense(512, activation = DENSE_LAYER_ACTIVATION))\n",
        "model.add(tf.keras.layers.Dropout(rate=0.2))\n",
        "model.add(Dense(NUM_CLASSES, activation = DENSE_LAYER_ACTIVATION))\n",
        "\n",
        "# Say not to train first layer (ResNet) model as it is already trained\n",
        "model.layers[0].trainable = False\n",
        "\n",
        "#compiling\n",
        "model.compile(optimizer = 'adam', loss = OBJECTIVE_FUNCTION, metrics = LOSS_METRICS)\n",
        "\n",
        "if os.path.exists(\"Best_weights\\Pepper.h5\"):\n",
        "  print(\"Model loaded\")\n",
        "  model.load_weights('Best_weights\\Pepper.h5')\n",
        "\n",
        "else:\n",
        "  history = model.fit(\n",
        "          train_set,\n",
        "          epochs=16,\n",
        "          validation_data=test_set,\n",
        "          validation_steps=400)\n",
        "  plt.figure(1, figsize = (15,8)) \n",
        "  plt.subplot(221)  \n",
        "  plt.plot(history.history['accuracy'])  \n",
        "  plt.plot(history.history['val_accuracy'])  \n",
        "  plt.title('model accuracy')  \n",
        "  plt.ylabel('accuracy')  \n",
        "  plt.xlabel('epoch')  \n",
        "  plt.legend(['train', 'valid']) \n",
        "      \n",
        "  plt.subplot(222)  \n",
        "  plt.plot(history.history['loss'])  \n",
        "  plt.plot(history.history['val_loss'])  \n",
        "  plt.title('model loss')  \n",
        "  plt.ylabel('loss')  \n",
        "  plt.xlabel('epoch')  \n",
        "  plt.legend(['train', 'valid']) \n",
        "\n",
        "  plt.show()\n",
        "  model.save(\"Best_model\\Pepper.h5\")\n",
        "  model.save_weights(\"Best_weights\\Pepper.h5\")"
      ],
      "metadata": {
        "colab": {
          "base_uri": "https://localhost:8080/"
        },
        "id": "-_BPw952cKRb",
        "outputId": "4f97e7ee-f947-4d23-d4cc-a6e6554cf694"
      },
      "execution_count": null,
      "outputs": [
        {
          "output_type": "stream",
          "name": "stdout",
          "text": [
            "Found 1784 images belonging to 2 classes.\n",
            "Found 494 images belonging to 2 classes.\n",
            "Model loaded\n"
          ]
        }
      ]
    },
    {
      "cell_type": "code",
      "source": [
        "# model.save(\"Best_model\\Pepper.h5\")"
      ],
      "metadata": {
        "id": "e_YGmDC3sdO5"
      },
      "execution_count": null,
      "outputs": []
    },
    {
      "cell_type": "code",
      "source": [
        "scores = model.evaluate(test_set)\n",
        "print(\"%s: %.2f%%\" % (model.metrics_names[1], scores[1]*100))\n",
        "\n",
        "thresh = 0.50\n",
        "test_image = image.load_img(r\"C:\\Users\\ultim\\Documents\\Leaf-Disease-Classifier-master\\yolo_dataset\\pepper\\test\\pepper_healthy\\pepper_healthy120.jpg\",target_size=(224,224))  \n",
        "test_image = image.img_to_array(test_image)\n",
        "test_image = np.expand_dims(test_image,axis=0)\n",
        "result = model.predict(test_image)\n",
        "class_peach = ['Pepper Bacterial Spot','Healthy pepper']\n",
        "\n",
        "for x,y in enumerate(result[0]):\n",
        "  if y > thresh:\n",
        "    print(class_peach[x])\n",
        "    print(\"probability : \" + str(y))"
      ],
      "metadata": {
        "colab": {
          "base_uri": "https://localhost:8080/"
        },
        "id": "dVwLnmrecKXe",
        "outputId": "6def3eb1-3eb5-442f-bd43-09e51260fe7a"
      },
      "execution_count": null,
      "outputs": [
        {
          "output_type": "stream",
          "name": "stdout",
          "text": [
            "8/8 [==============================] - 6s 603ms/step - loss: 0.3334 - accuracy: 0.9676\n",
            "accuracy: 96.76%\n",
            "WARNING:tensorflow:6 out of the last 8 calls to <function Model.make_predict_function.<locals>.predict_function at 0x00000212AF6EFCA0> triggered tf.function retracing. Tracing is expensive and the excessive number of tracings could be due to (1) creating @tf.function repeatedly in a loop, (2) passing tensors with different shapes, (3) passing Python objects instead of tensors. For (1), please define your @tf.function outside of the loop. For (2), @tf.function has experimental_relax_shapes=True option that relaxes argument shapes that can avoid unnecessary retracing. For (3), please refer to https://www.tensorflow.org/guide/function#controlling_retracing and https://www.tensorflow.org/api_docs/python/tf/function for  more details.\n",
            "Healthy pepper\n",
            "probability : 0.7571882\n"
          ]
        }
      ]
    },
    {
      "cell_type": "markdown",
      "source": [
        "### Strawberry Model"
      ],
      "metadata": {
        "id": "Z01MckvRcYvY"
      }
    },
    {
      "cell_type": "markdown",
      "source": [
        "#### Model"
      ],
      "metadata": {
        "id": "D9XOnsA_dO1u"
      }
    },
    {
      "cell_type": "code",
      "source": [
        "NUM_CLASSES = 2\n",
        "\n",
        "#DATA :\n",
        "train_set = train_datagen.flow_from_directory(\n",
        "          'yolo_dataset/strawberry/train/',\n",
        "          target_size=(224,224),\n",
        "          batch_size=64,\n",
        "          seed=101, \n",
        "          shuffle=True,\n",
        "          class_mode='categorical')\n",
        "\n",
        "test_set = test_datagen.flow_from_directory(\n",
        "          'yolo_dataset/strawberry/test/',\n",
        "          target_size=(224, 224),\n",
        "          batch_size=64,\n",
        "          shuffle=True,\n",
        "          seed=101,\n",
        "          class_mode='categorical')\n",
        "\n",
        "RESNET50_POOLING_AVERAGE = 'avg'\n",
        "DENSE_LAYER_ACTIVATION = 'softmax'\n",
        "OBJECTIVE_FUNCTION = 'categorical_crossentropy'\n",
        "\n",
        "# Common accuracy metric for all outputs, but can use different metrics for different output\n",
        "LOSS_METRICS = ['accuracy']\n",
        "\n",
        "model = Sequential()\n",
        "\n",
        "# 1st layer as the lumpsum weights from resnet50_weights_tf_dim_ordering_tf_kernels_notop.h5\n",
        "# NOTE that this layer will be set below as NOT TRAINABLE, i.e., use it as is\n",
        "model.add(ResNet50(include_top = False, pooling = RESNET50_POOLING_AVERAGE, weights = 'imagenet'))\n",
        "\n",
        "model.add(Dense(1024, activation = DENSE_LAYER_ACTIVATION))\n",
        "model.add(tf.keras.layers.Dropout(rate=0.2))\n",
        "model.add(Dense(NUM_CLASSES, activation = DENSE_LAYER_ACTIVATION))\n",
        "\n",
        "# Say not to train first layer (ResNet) model as it is already trained\n",
        "model.layers[0].trainable = False\n",
        "\n",
        "#compiling\n",
        "model.compile(optimizer = 'adam', loss = OBJECTIVE_FUNCTION, metrics = LOSS_METRICS)\n",
        "\n",
        "if os.path.exists(\"Best_weights\\Strawberry.h5\"):\n",
        "  print(\"Model loaded\")\n",
        "  model.load_weights('Best_weights\\Strawberry.h5')\n",
        "\n",
        "else:\n",
        "  history = model.fit(\n",
        "          train_set,\n",
        "          epochs=16,\n",
        "          validation_data=test_set,\n",
        "          validation_steps=400)\n",
        "  \n",
        "  plt.figure(1, figsize = (15,8)) \n",
        "  plt.subplot(221)  \n",
        "  plt.plot(history.history['accuracy'])  \n",
        "  plt.plot(history.history['val_accuracy'])  \n",
        "  plt.title('model accuracy')  \n",
        "  plt.ylabel('accuracy')  \n",
        "  plt.xlabel('epoch')  \n",
        "  plt.legend(['train', 'valid']) \n",
        "      \n",
        "  plt.subplot(222)  \n",
        "  plt.plot(history.history['loss'])  \n",
        "  plt.plot(history.history['val_loss'])  \n",
        "  plt.title('model loss')  \n",
        "  plt.ylabel('loss')  \n",
        "  plt.xlabel('epoch')  \n",
        "  plt.legend(['train', 'valid']) \n",
        "\n",
        "  plt.show()\n",
        "  model.save(\"Best_model\\Strawberry.h5\")\n",
        "  model.save_weights(\"Best_weights\\Strawberry.h5\")"
      ],
      "metadata": {
        "colab": {
          "base_uri": "https://localhost:8080/",
          "height": 894
        },
        "id": "7tcZVM_pcKfQ",
        "outputId": "386fd842-b964-40b0-dd3b-f20dc0aabea3"
      },
      "execution_count": null,
      "outputs": [
        {
          "output_type": "stream",
          "name": "stdout",
          "text": [
            "Found 1129 images belonging to 2 classes.\n",
            "Found 312 images belonging to 2 classes.\n",
            "Epoch 1/16\n",
            "18/18 [==============================] - ETA: 0s - loss: 0.6685 - accuracy: 0.7068WARNING:tensorflow:Your input ran out of data; interrupting training. Make sure that your dataset or generator can generate at least `steps_per_epoch * epochs` batches (in this case, 400 batches). You may need to use the repeat() function when building your dataset.\n",
            "18/18 [==============================] - 19s 887ms/step - loss: 0.6685 - accuracy: 0.7068 - val_loss: 0.6399 - val_accuracy: 0.9712\n",
            "Epoch 2/16\n",
            "18/18 [==============================] - 12s 649ms/step - loss: 0.6386 - accuracy: 0.8043\n",
            "Epoch 3/16\n",
            "18/18 [==============================] - 12s 652ms/step - loss: 0.6149 - accuracy: 0.8202\n",
            "Epoch 4/16\n",
            "18/18 [==============================] - 12s 653ms/step - loss: 0.6003 - accuracy: 0.8087\n",
            "Epoch 5/16\n",
            "18/18 [==============================] - 12s 658ms/step - loss: 0.5781 - accuracy: 0.8264\n",
            "Epoch 6/16\n",
            "18/18 [==============================] - 12s 659ms/step - loss: 0.5692 - accuracy: 0.8096\n",
            "Epoch 7/16\n",
            "18/18 [==============================] - 12s 671ms/step - loss: 0.5661 - accuracy: 0.8034\n",
            "Epoch 8/16\n",
            "18/18 [==============================] - 12s 673ms/step - loss: 0.5523 - accuracy: 0.8158\n",
            "Epoch 9/16\n",
            "18/18 [==============================] - 12s 654ms/step - loss: 0.5338 - accuracy: 0.8237\n",
            "Epoch 10/16\n",
            "18/18 [==============================] - 12s 654ms/step - loss: 0.5274 - accuracy: 0.8131\n",
            "Epoch 11/16\n",
            "18/18 [==============================] - 12s 653ms/step - loss: 0.5167 - accuracy: 0.8255\n",
            "Epoch 12/16\n",
            "18/18 [==============================] - 12s 660ms/step - loss: 0.5234 - accuracy: 0.8131\n",
            "Epoch 13/16\n",
            "18/18 [==============================] - 12s 665ms/step - loss: 0.5122 - accuracy: 0.8184\n",
            "Epoch 14/16\n",
            "18/18 [==============================] - 12s 655ms/step - loss: 0.5099 - accuracy: 0.8131\n",
            "Epoch 15/16\n",
            "18/18 [==============================] - 12s 664ms/step - loss: 0.4911 - accuracy: 0.8299\n",
            "Epoch 16/16\n",
            "18/18 [==============================] - 13s 710ms/step - loss: 0.4920 - accuracy: 0.8220\n"
          ]
        },
        {
          "output_type": "display_data",
          "data": {
            "text/plain": [
              "<Figure size 1080x576 with 2 Axes>"
            ],
            "image/png": "[encoded data removed]"
          },
          "metadata": {
            "needs_background": "light"
          }
        }
      ]
    },
    {
      "cell_type": "code",
      "source": [
        "# model.save(\"Best_model\\Strawberry.h5\")"
      ],
      "metadata": {
        "id": "WMuQRMr3sosY"
      },
      "execution_count": null,
      "outputs": []
    },
    {
      "cell_type": "code",
      "source": [
        "scores = model.evaluate(test_set)\n",
        "print(\"%s: %.2f%%\" % (model.metrics_names[1], scores[1]*100))\n",
        "\n",
        "thresh = 0.50\n",
        "test_image = image.load_img(r\"C:\\Users\\ultim\\Documents\\Leaf-Disease-Classifier-master\\yolo_dataset\\strawberry\\test\\strawberry_healthy\\strawberry_healthy18.jpg\",target_size=(224,224))  \n",
        "test_image = image.img_to_array(test_image)\n",
        "test_image = np.expand_dims(test_image,axis=0)\n",
        "result = model.predict(test_image)\n",
        "class_straw = ['Starwberry Leaf Scorch', 'Healthy Strawberry']\n",
        "\n",
        "for x,y in enumerate(result[0]):\n",
        "  if y > thresh:\n",
        "    print(class_straw[x])\n",
        "    print(result)\n",
        "    print(\"probability : \" + str(y))"
      ],
      "metadata": {
        "colab": {
          "base_uri": "https://localhost:8080/"
        },
        "id": "ZR2P15jPcfvv",
        "outputId": "41cf5e58-1818-4eec-dd26-efda5e426ece"
      },
      "execution_count": null,
      "outputs": [
        {
          "output_type": "stream",
          "name": "stdout",
          "text": [
            "5/5 [==============================] - 3s 462ms/step - loss: 0.3530 - accuracy: 1.0000\n",
            "accuracy: 100.00%\n",
            "Healthy Strawberry\n",
            "[[0.39826643 0.60173357]]\n",
            "probability : 0.60173357\n"
          ]
        }
      ]
    },
    {
      "cell_type": "markdown",
      "source": [
        "### Tomato Model"
      ],
      "metadata": {
        "id": "-qwfG4GecggP"
      }
    },
    {
      "cell_type": "markdown",
      "source": [
        "#### Model"
      ],
      "metadata": {
        "id": "D3uTrnt8dQgm"
      }
    },
    {
      "cell_type": "code",
      "source": [
        "NUM_CLASSES = 10\n",
        "\n",
        "#DATA :\n",
        "train_set = train_datagen.flow_from_directory(\n",
        "          'yolo_dataset/tomato/train/',\n",
        "          target_size=(224,224),\n",
        "          batch_size=64,\n",
        "          seed=101, \n",
        "          shuffle=True,\n",
        "          class_mode='categorical')\n",
        "\n",
        "test_set = test_datagen.flow_from_directory(\n",
        "          'yolo_dataset/tomato/test/',\n",
        "          target_size=(224, 224),\n",
        "          batch_size=64,\n",
        "          shuffle=True,\n",
        "          seed=101,\n",
        "          class_mode='categorical')\n",
        "\n",
        "RESNET50_POOLING_AVERAGE = 'avg'\n",
        "DENSE_LAYER_ACTIVATION = 'softmax'\n",
        "OBJECTIVE_FUNCTION = 'categorical_crossentropy'\n",
        "\n",
        "# Common accuracy metric for all outputs, but can use different metrics for different output\n",
        "LOSS_METRICS = ['accuracy']\n",
        "\n",
        "model = Sequential()\n",
        "\n",
        "# 1st layer as the lumpsum weights from resnet50_weights_tf_dim_ordering_tf_kernels_notop.h5\n",
        "# NOTE that this layer will be set below as NOT TRAINABLE, i.e., use it as is\n",
        "model.add(ResNet50(include_top = False, pooling = RESNET50_POOLING_AVERAGE, weights = 'imagenet'))\n",
        "model.add(tf.keras.layers.BatchNormalization())\n",
        "model.add(Dense(1024, activation = DENSE_LAYER_ACTIVATION))\n",
        "model.add(tf.keras.layers.BatchNormalization())\n",
        "model.add(Dense(512, activation = DENSE_LAYER_ACTIVATION))\n",
        "model.add(tf.keras.layers.BatchNormalization())\n",
        "# model.add(tf.keras.layers.Dropout(rate=0.2))\n",
        "model.add(Dense(NUM_CLASSES, activation = DENSE_LAYER_ACTIVATION))\n",
        "\n",
        "def lr_scheduler(epoch, lr):\n",
        "    if epoch > 20:\n",
        "        lr = 0.001\n",
        "        return lr\n",
        "    return lr\n",
        "# Say not to train first layer (ResNet) model as it is already trained\n",
        "model.layers[0].trainable = False\n",
        "callbacks = [tf.keras.callbacks.LearningRateScheduler(lr_scheduler, verbose=1)]\n",
        "\n",
        "#compiling\n",
        "model.compile(optimizer = tf.keras.optimizers.Adam(), \n",
        "              loss = OBJECTIVE_FUNCTION, metrics = LOSS_METRICS,\n",
        "              )\n",
        "\n",
        "if os.path.exists(\"Best_weights\\Tomato.h5\"):\n",
        "  print(\"Model loaded\")\n",
        "  model.load_weights('Best_weights\\Tomato.h5')\n",
        "\n",
        "else:\n",
        "  history = model.fit(\n",
        "          train_set,\n",
        "          epochs=32,\n",
        "          validation_data=test_set,\n",
        "          validation_steps=400)\n",
        "  plt.figure(1, figsize = (15,8)) \n",
        "  plt.subplot(221)  \n",
        "  plt.plot(history.history['accuracy'])  \n",
        "  plt.plot(history.history['val_accuracy'])  \n",
        "  plt.title('model accuracy')  \n",
        "  plt.ylabel('accuracy')  \n",
        "  plt.xlabel('epoch')  \n",
        "  plt.legend(['train', 'valid']) \n",
        "      \n",
        "  plt.subplot(222)  \n",
        "  plt.plot(history.history['loss'])  \n",
        "  plt.plot(history.history['val_loss'])  \n",
        "  plt.title('model loss')  \n",
        "  plt.ylabel('loss')  \n",
        "  plt.xlabel('epoch')  \n",
        "  plt.legend(['train', 'valid']) \n",
        "\n",
        "  plt.show()\n",
        "  model.save(\"Best_model\\Tomato.h5\")\n",
        "  model.save_weights(\"Best_weights\\Tomato.h5\")"
      ],
      "metadata": {
        "colab": {
          "base_uri": "https://localhost:8080/"
        },
        "id": "0B_1T4MBcs4H",
        "outputId": "a4536c08-dd75-46b4-9154-de22c5c66763"
      },
      "execution_count": null,
      "outputs": [
        {
          "output_type": "stream",
          "name": "stdout",
          "text": [
            "Found 14531 images belonging to 10 classes.\n",
            "Found 3628 images belonging to 10 classes.\n",
            "Model loaded\n"
          ]
        }
      ]
    },
    {
      "cell_type": "code",
      "source": [
        "# model.save(\"Best_model\\Tomato.h5\")"
      ],
      "metadata": {
        "id": "5e0vmxfcs_vU"
      },
      "execution_count": null,
      "outputs": []
    },
    {
      "cell_type": "code",
      "source": [
        "#scores = model.evaluate(test_set)\n",
        "print(\"%s: %.2f%%\" % (model.metrics_names[1], scores[1]*100))\n",
        "\n",
        "thresh = 0.50\n",
        "test_image = image.load_img(r\"C:\\Users\\ultim\\Documents\\Leaf-Disease-Classifier-master\\yolo_dataset\\tomato\\train\\tomato_eb\\tomato_eb47.jpg\",target_size=(224,224))  \n",
        "test_image = image.img_to_array(test_image)\n",
        "test_image = np.expand_dims(test_image,axis=0)\n",
        "result = model.predict(test_image)\n",
        "class_peach = ['Bacterial Spot','Curl Virus','Early Blight','Healthy','Late Blight','Leaf Mold','Mosaic Virus','Septoria Leaf Spot','Spider Mites','Target Spot']\n",
        "\n",
        "\n",
        "for x,y in enumerate(result[0]):\n",
        "  if y > thresh:\n",
        "    print(class_peach[x])\n",
        "    print(\"probability : \" + str(y))"
      ],
      "metadata": {
        "colab": {
          "base_uri": "https://localhost:8080/"
        },
        "id": "UU_IW01Lcs7M",
        "outputId": "e9159157-d850-4462-c844-225deb24de72"
      },
      "execution_count": null,
      "outputs": [
        {
          "output_type": "stream",
          "name": "stdout",
          "text": [
            "accuracy: 92.64%\n",
            "Early Blight\n",
            "probability : 0.8614616\n"
          ]
        }
      ]
    },
    {
      "cell_type": "markdown",
      "source": [
        "### Cherry Model"
      ],
      "metadata": {
        "id": "tfapvRNJctIg"
      }
    },
    {
      "cell_type": "markdown",
      "source": [
        "#### Model"
      ],
      "metadata": {
        "id": "MG_G54VkdSWS"
      }
    },
    {
      "cell_type": "code",
      "source": [
        "NUM_CLASSES = 2\n",
        "\n",
        "#DATA :\n",
        "train_set = train_datagen.flow_from_directory(\n",
        "          'yolo_dataset/cherry/train/',\n",
        "          target_size=(224,224),\n",
        "          batch_size=64,\n",
        "          seed=101, \n",
        "          shuffle=True,\n",
        "          class_mode='categorical')\n",
        "\n",
        "test_set = test_datagen.flow_from_directory(\n",
        "          'yolo_dataset/cherry/test/',\n",
        "          target_size=(224, 224),\n",
        "          batch_size=64,\n",
        "          shuffle=True,\n",
        "          seed=101,\n",
        "          class_mode='categorical')\n",
        "\n",
        "RESNET50_POOLING_AVERAGE = 'avg'\n",
        "DENSE_LAYER_ACTIVATION = 'softmax'\n",
        "OBJECTIVE_FUNCTION = 'categorical_crossentropy'\n",
        "\n",
        "# Common accuracy metric for all outputs, but can use different metrics for different output\n",
        "LOSS_METRICS = ['accuracy']\n",
        "\n",
        "model = Sequential()\n",
        "\n",
        "# 1st layer as the lumpsum weights from resnet50_weights_tf_dim_ordering_tf_kernels_notop.h5\n",
        "# NOTE that this layer will be set below as NOT TRAINABLE, i.e., use it as is\n",
        "model.add(ResNet50(include_top = False, pooling = RESNET50_POOLING_AVERAGE, weights = 'imagenet'))\n",
        "\n",
        "model.add(Dense(512, activation = DENSE_LAYER_ACTIVATION))\n",
        "# model.add(tf.keras.layers.Dropout(rate=0.2))\n",
        "model.add(Dense(NUM_CLASSES, activation = DENSE_LAYER_ACTIVATION))\n",
        "\n",
        "# Say not to train first layer (ResNet) model as it is already trained\n",
        "model.layers[0].trainable = False\n",
        "\n",
        "#compiling\n",
        "model.compile(optimizer = 'adam', loss = OBJECTIVE_FUNCTION, metrics = LOSS_METRICS)\n",
        "\n",
        "if os.path.exists(\"Best_weights\\Cherry.h5\"):\n",
        "  print(\"Model loaded\")\n",
        "  model.load_weights('Best_weights\\Cherry.h5')\n",
        "\n",
        "else:\n",
        "  history = model.fit(\n",
        "          train_set,\n",
        "          epochs=16,\n",
        "          validation_data=test_set,\n",
        "          validation_steps=400)\n",
        "  plt.figure(1, figsize = (15,8)) \n",
        "  plt.subplot(221)  \n",
        "  plt.plot(history.history['accuracy'])  \n",
        "  plt.plot(history.history['val_accuracy'])  \n",
        "  plt.title('model accuracy')  \n",
        "  plt.ylabel('accuracy')  \n",
        "  plt.xlabel('epoch')  \n",
        "  plt.legend(['train', 'valid']) \n",
        "      \n",
        "  plt.subplot(222)  \n",
        "  plt.plot(history.history['loss'])  \n",
        "  plt.plot(history.history['val_loss'])  \n",
        "  plt.title('model loss')  \n",
        "  plt.ylabel('loss')  \n",
        "  plt.xlabel('epoch')  \n",
        "  plt.legend(['train', 'valid']) \n",
        "  plt.show()\n",
        "  model.save(\"Best_model\\Cherry.h5\")\n",
        "  model.save_weights(\"Best_weights\\Cherry.h5\")"
      ],
      "metadata": {
        "colab": {
          "base_uri": "https://localhost:8080/"
        },
        "id": "psdkzxpjcz5X",
        "outputId": "23716580-d89a-497e-b7f4-67f101f0d986"
      },
      "execution_count": null,
      "outputs": [
        {
          "output_type": "stream",
          "name": "stdout",
          "text": [
            "Found 1374 images belonging to 2 classes.\n",
            "Found 380 images belonging to 2 classes.\n",
            "Model loaded\n"
          ]
        }
      ]
    },
    {
      "cell_type": "code",
      "source": [
        "# model.save(\"Best_model\\Cherry.h5\")"
      ],
      "metadata": {
        "id": "qzfvO1kntTMT"
      },
      "execution_count": null,
      "outputs": []
    },
    {
      "cell_type": "code",
      "source": [
        "scores = model.evaluate(test_set)\n",
        "print(\"%s: %.2f%%\" % (model.metrics_names[1], scores[1]*100))\n",
        "\n",
        "thresh = 0.60\n",
        "test_image = image.load_img(r\"C:\\Users\\ultim\\Documents\\Leaf-Disease-Classifier-master\\yolo_dataset\\cherry\\train\\cherry_sour_powdery_mildew\\cherry_PM52.jpg\",target_size=(224,224))  \n",
        "test_image = image.img_to_array(test_image)\n",
        "test_image = np.expand_dims(test_image,axis=0)\n",
        "result = model.predict(test_image)\n",
        "class_peach = ['Healthy Cherry','Cherry sour powder mildew']\n",
        "\n",
        "for x,y in enumerate(result[0]):\n",
        "  if y > thresh:\n",
        "    print(class_peach[x])\n",
        "    print(\"probability : \" + str(y))"
      ],
      "metadata": {
        "colab": {
          "base_uri": "https://localhost:8080/"
        },
        "id": "I1kubuAccz8A",
        "outputId": "ed1b71c0-45a2-42cc-a3c5-9fbe0fe71204"
      },
      "execution_count": null,
      "outputs": [
        {
          "output_type": "stream",
          "name": "stdout",
          "text": [
            "6/6 [==============================] - 3s 494ms/step - loss: 0.3439 - accuracy: 1.0000\n",
            "accuracy: 100.00%\n",
            "Cherry sour powder mildew\n",
            "probability : 0.632295\n"
          ]
        }
      ]
    },
    {
      "cell_type": "markdown",
      "source": [
        "## Main Classifier"
      ],
      "metadata": {
        "id": "hmMdZA7HVv9c"
      }
    },
    {
      "cell_type": "code",
      "source": [
        "NUM_CLASSES = 8\n",
        "\n",
        "train_datagen = ImageDataGenerator(\n",
        "      rotation_range = 270,\n",
        "      brightness_range = (-2,2),\n",
        "          shear_range=0.2,\n",
        "          zoom_range=0.3,\n",
        "      vertical_flip=True,\n",
        "      validation_split=0.3,\n",
        "          horizontal_flip=True)\n",
        "test_datagen = ImageDataGenerator(vertical_flip=True,\n",
        "                                  horizontal_flip=True,\n",
        "                                  rotation_range=180,\n",
        "                                  zoom_range=0.2)\n",
        "val_datagen = ImageDataGenerator(vertical_flip=True,\n",
        "                                  horizontal_flip=True,\n",
        "                                  rotation_range=180,\n",
        "                                  zoom_range=0.2)\n",
        "#DATA :\n",
        "train_set = train_datagen.flow_from_directory(\n",
        "          'yolo_dataset/Dataset/train',\n",
        "          target_size=(224,224),\n",
        "          batch_size=64,\n",
        "          seed=101, \n",
        "          shuffle=True,\n",
        "          class_mode='categorical')\n",
        "\n",
        "test_set = test_datagen.flow_from_directory(\n",
        "          'yolo_dataset/Dataset/test',\n",
        "          target_size=(224, 224),\n",
        "          batch_size=64,\n",
        "          shuffle=True,\n",
        "          seed=101,\n",
        "          class_mode='categorical')\n",
        "RESNET50_POOLING_AVERAGE = 'avg'\n",
        "DENSE_LAYER_ACTIVATION = 'softmax'\n",
        "OBJECTIVE_FUNCTION = 'categorical_crossentropy'\n",
        "\n",
        "# Common accuracy metric for all outputs, but can use different metrics for different output\n",
        "LOSS_METRICS = ['accuracy']\n",
        "\n",
        "model = Sequential()\n",
        "\n",
        "# 1st layer as the lumpsum weights from resnet50_weights_tf_dim_ordering_tf_kernels_notop.h5\n",
        "# NOTE that this layer will be set below as NOT TRAINABLE, i.e., use it as is\n",
        "model.add(ResNet50(include_top = False, pooling = RESNET50_POOLING_AVERAGE, weights = 'imagenet'))\n",
        "model.add(tf.keras.layers.BatchNormalization())\n",
        "\n",
        "model.add(Dense(1024, activation = DENSE_LAYER_ACTIVATION))\n",
        "model.add(tf.keras.layers.BatchNormalization())\n",
        "model.add(Dense(512, activation = DENSE_LAYER_ACTIVATION))\n",
        "model.add(tf.keras.layers.BatchNormalization())\n",
        "model.add(tf.keras.layers.Dropout(rate=0.2))\n",
        "model.add(Dense(NUM_CLASSES, activation = DENSE_LAYER_ACTIVATION))\n",
        "\n",
        "# Say not to train first layer (ResNet) model as it is already trained\n",
        "model.layers[0].trainable = False\n",
        "\n",
        "#compiling\n",
        "model.compile(optimizer = 'adam', loss=tf.keras.losses.CategoricalCrossentropy(), metrics = LOSS_METRICS)\n",
        "\n",
        "if os.path.exists(\"Best_weights\\Leaf_classify.h5\"):\n",
        "  print(\"Model loaded\")\n",
        "  model.load_weights('Best_weights\\Leaf_classify.h5')\n",
        "\n",
        "else:\n",
        "  history = model.fit(\n",
        "          train_set,\n",
        "          epochs=32,\n",
        "          validation_data=test_set,\n",
        "          validation_steps=400)\n",
        "  plt.figure(1, figsize = (15,8)) \n",
        "  plt.subplot(221)  \n",
        "  plt.plot(history.history['accuracy'])  \n",
        "  plt.plot(history.history['val_accuracy'])  \n",
        "  plt.title('model accuracy')  \n",
        "  plt.ylabel('accuracy')  \n",
        "  plt.xlabel('epoch')  \n",
        "  plt.legend(['train', 'valid']) \n",
        "      \n",
        "  plt.subplot(222)  \n",
        "  plt.plot(history.history['loss'])  \n",
        "  plt.plot(history.history['val_loss'])  \n",
        "  plt.title('model loss')  \n",
        "  plt.ylabel('loss')  \n",
        "  plt.xlabel('epoch')  \n",
        "  plt.legend(['train', 'valid']) \n",
        "\n",
        "  plt.show()\n",
        "\n",
        "\n",
        "  model.save_weights(\"Best_weights\\Leaf_classify.h5\")"
      ],
      "metadata": {
        "colab": {
          "base_uri": "https://localhost:8080/"
        },
        "id": "KXiiXvlaV1d_",
        "outputId": "90b4d3c3-9291-49e7-a235-724579d54986"
      },
      "execution_count": null,
      "outputs": [
        {
          "output_type": "stream",
          "name": "stdout",
          "text": [
            "Found 28938 images belonging to 8 classes.\n",
            "Found 7210 images belonging to 8 classes.\n",
            "Model loaded\n"
          ]
        }
      ]
    },
    {
      "cell_type": "code",
      "source": [
        "scores = model.evaluate(test_set)\n",
        "print(\"%s: %.2f%%\" % (model.metrics_names[1], scores[1]*100))"
      ],
      "metadata": {
        "colab": {
          "base_uri": "https://localhost:8080/"
        },
        "id": "DXNd38N-dpBp",
        "outputId": "0fe7e9b4-c22e-4e5b-ccee-0f73ed979285"
      },
      "execution_count": null,
      "outputs": [
        {
          "output_type": "stream",
          "name": "stdout",
          "text": [
            "113/113 [==============================] - 98s 855ms/step - loss: 0.0753 - accuracy: 0.9853\n",
            "accuracy: 98.53%\n"
          ]
        }
      ]
    },
    {
      "cell_type": "code",
      "source": [
        "thresh = 0.5\n",
        "test_image = image.load_img(r\"C:\\Users\\ultim\\Documents\\Leaf-Disease-Classifier-master\\yolo_dataset\\Dataset\\test\\Grape\\grape_105.JPG\",target_size=(224,224))  \n",
        "test_image = image.img_to_array(test_image)\n",
        "test_image = np.expand_dims(test_image,axis=0)\n",
        "result = model.predict(test_image)\n",
        "class_main = ['Apple','Cherry','Grape','Peach','Pepper','Potato','Strawberry','Tomato']\n",
        "\n",
        "for x,y in enumerate(result[0]):\n",
        "  if y > thresh:\n",
        "    print(class_main[x])\n",
        "    print(\"probability : \" + str(y))"
      ],
      "metadata": {
        "colab": {
          "base_uri": "https://localhost:8080/"
        },
        "id": "-h-q8M1vcHCT",
        "outputId": "0995be12-ec58-4a53-d263-0bd735e45d99"
      },
      "execution_count": null,
      "outputs": [
        {
          "output_type": "stream",
          "name": "stdout",
          "text": [
            "Grape\n",
            "probability : 0.99726737\n"
          ]
        }
      ]
    },
    {
      "cell_type": "code",
      "source": [
        ""
      ],
      "metadata": {
        "id": "F8KW7NBumA7B"
      },
      "execution_count": null,
      "outputs": []
    },
    {
      "cell_type": "markdown",
      "source": [
        "## MAIN PREDECTION CLASS"
      ],
      "metadata": {
        "id": "CTnrKMknoOhj"
      }
    },
    {
      "cell_type": "code",
      "source": [
        "# model.save(\"Best_model\\Leaf_classify.h5\")"
      ],
      "metadata": {
        "id": "0JKc7Fuqoz7r"
      },
      "execution_count": null,
      "outputs": []
    },
    {
      "cell_type": "code",
      "source": [
        "\n"
      ],
      "metadata": {
        "id": "0GiR9MHYmBE9"
      },
      "execution_count": null,
      "outputs": []
    },
    {
      "cell_type": "code",
      "source": [
        "thresh = 0.5\n",
        "test_image_path = r\"C:\\Users\\ultim\\Documents\\Leaf-Disease-Classifier-master\\yolo_dataset\\strawberry\\train\\strawberry_Leaf_scorch\\strawberry_Leaf_scorch4.jpg\"\n",
        "test_image = image.load_img(test_image_path,target_size=(224,224))  \n",
        "test_image = image.img_to_array(test_image)\n",
        "test_image = np.expand_dims(test_image,axis=0)\n",
        "model =tf.keras.models.load_model('Best_model\\Leaf_classify.h5')\n",
        "result = model.predict(test_image)\n",
        "class_main = ['Apple','Cherry','Grape','Peach','Pepper','Potato','Strawberry','Tomato']\n",
        "class_image = \"\"\n",
        "class_index = \"\"\n",
        "for x,y in enumerate(result[0]):\n",
        "  if y > thresh:\n",
        "    print(\"Leaf belongs to \" + str(class_main[x]))\n",
        "    #print(\"probability : \" + str(y))\n",
        "    class_image = class_main[x]\n",
        "    class_index = x\n",
        "\n",
        "diseaselist = [['Black Rot','Cedar Apple Rust','Healthy','Apple Scab'],\n",
        "['Healthy','Powdery Mildew'],\n",
        "[\"Black rot\", \"Blight\", \"Esca\", \"Healthy\"],\n",
        "['Bacterial Spot','Healthy'],\n",
        "['Bacterial Spot','Healthy'],\n",
        "['Early Blight','Healthy','Late Blight'],\n",
        "['Leaf Scorch','Healthy'],\n",
        "['Bacterial Spot','Curl Virus','Early Blight','Healthy','Late Blight',\n",
        " 'Leaf Mold','Mosaic Virus','Septoria Leaf Spot','Spider Mites','Target Spot']]\n",
        "\n",
        "path_sub = \"Best_model\\\\\" + class_image + \".h5\"\n",
        "model_sub = tf.keras.models.load_model(path_sub)\n",
        "result_sub = model_sub.predict(test_image)\n",
        "\n",
        "for x,y in enumerate(result_sub[0]):\n",
        "  if y > thresh:\n",
        "    image_sub = diseaselist[class_index][x]\n",
        "    #print(\"probability : \" + str(y))\n",
        "    if image_sub == \"Healthy\":\n",
        "      print(class_image + \" is Healthy.\")\n",
        "    else:\n",
        "      print(class_image + \" has disease : \" + image_sub)\n"
      ],
      "metadata": {
        "colab": {
          "base_uri": "https://localhost:8080/"
        },
        "id": "iC4camFAq0NK",
        "outputId": "69090101-9056-4bae-a013-d0e5fb2b835a"
      },
      "execution_count": null,
      "outputs": [
        {
          "output_type": "stream",
          "name": "stdout",
          "text": [
            "Leaf belongs to Strawberry\n",
            "Strawberry has disease : Leaf Scorch\n"
          ]
        }
      ]
    },
    {
      "cell_type": "code",
      "source": [
        ""
      ],
      "metadata": {
        "id": "_qJlDAWIuDPm"
      },
      "execution_count": null,
      "outputs": []
    },
    {
      "cell_type": "code",
      "source": [
        ""
      ],
      "metadata": {
        "id": "LwUybO95mBIe"
      },
      "execution_count": null,
      "outputs": []
    },
    {
      "cell_type": "code",
      "source": [
        ""
      ],
      "metadata": {
        "id": "BiVPxp6BmBLw"
      },
      "execution_count": null,
      "outputs": []
    },
    {
      "cell_type": "code",
      "source": [
        ""
      ],
      "metadata": {
        "id": "7v8zLor2mBOF"
      },
      "execution_count": null,
      "outputs": []
    }
  ],
  "metadata": {
    "accelerator": "GPU",
    "colab": {
      "collapsed_sections": [],
      "name": "Res50_script_Leaf_disease_detection.ipynb",
      "provenance": []
    },
    "kernelspec": {
      "display_name": "Python 3 (ipykernel)",
      "language": "python",
      "name": "python3"
    },
    "language_info": {
      "codemirror_mode": {
        "name": "ipython",
        "version": 3
      },
      "file_extension": ".py",
      "mimetype": "text/x-python",
      "name": "python",
      "nbconvert_exporter": "python",
      "pygments_lexer": "ipython3",
      "version": "3.9.7"
    }
  },
  "nbformat": 4,
  "nbformat_minor": 0
}